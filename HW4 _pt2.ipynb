{
 "cells": [
  {
   "cell_type": "code",
   "execution_count": 1,
   "metadata": {},
   "outputs": [
    {
     "name": "stdout",
     "output_type": "stream",
     "text": [
      " Device: NVIDIA GeForce RTX 4070 Ti. Now using: cuda \n",
      " Torch Version: 2.2.1\n"
     ]
    }
   ],
   "source": [
    "import pandas as pd\n",
    "import time\n",
    "import torch\n",
    "import warnings\n",
    "import seaborn as sns\n",
    "import matplotlib.pyplot  as plt\n",
    "from IPython import display\n",
    "\n",
    "device = torch.device(\"cuda:0\" if torch.cuda.is_available() else \"cpu\")\n",
    "\n",
    "print(f' Device: {torch.cuda.get_device_name(0)}. Now using: {device.type}', '\\n',\n",
    "      f'Torch Version: {torch.version.__version__}')"
   ]
  },
  {
   "cell_type": "code",
   "execution_count": 2,
   "metadata": {},
   "outputs": [],
   "source": [
    "df = pd.read_csv('simpsons_script_lines(1).csv', low_memory=False)\n",
    "phrases = df['normalized_text'].tolist()  # колонка с предобработанными текстами\n",
    "text = [[c for c in ph] for ph in phrases if type(ph) is str]"
   ]
  },
  {
   "cell_type": "code",
   "execution_count": 3,
   "metadata": {},
   "outputs": [],
   "source": [
    "CHARS = set('abcdefghijklmnopqrstuvwxyz ')\n",
    "INDEX_TO_CHAR = ['none'] + [w for w in CHARS]\n",
    "CHAR_TO_INDEX = {w: i for i, w in enumerate(INDEX_TO_CHAR)}\n",
    "\n",
    "MAX_LEN = 75\n",
    "X = torch.zeros((len(text), MAX_LEN), dtype=int)\n",
    "for i in range(len(text)): \n",
    "    for j, w in enumerate(text[i]): \n",
    "        if j >= MAX_LEN:\n",
    "            break\n",
    "        X[i, j] = CHAR_TO_INDEX.get(w, CHAR_TO_INDEX['none'])"
   ]
  },
  {
   "cell_type": "code",
   "execution_count": 4,
   "metadata": {},
   "outputs": [],
   "source": [
    "class CustomRnnCell(torch.nn.Module):\n",
    "    def __init__(self, input_size, hidden_size):\n",
    "        super(CustomRnnCell, self).__init__()\n",
    "        self.hidden_size = hidden_size\n",
    "        self.input_to_hidden = torch.nn.Linear(input_size + hidden_size, hidden_size)\n",
    "\n",
    "    def forward(self, x, hidden_state):\n",
    "        combined = torch.cat((x, hidden_state), 1)\n",
    "        hidden_state = torch.tanh(self.input_to_hidden(combined))\n",
    "        return hidden_state"
   ]
  },
  {
   "cell_type": "code",
   "execution_count": 11,
   "metadata": {},
   "outputs": [],
   "source": [
    "class Network(torch.nn.Module):\n",
    "    def __init__(self):\n",
    "        super(Network, self).__init__()\n",
    "        self.hs = 1024\n",
    "        self.embedding_dim = 64\n",
    "        self.embedding = torch.nn.Embedding(28, self.embedding_dim)\n",
    "        self.rnn_cell = CustomRnnCell(self.embedding_dim, self.hs)\n",
    "        self.out = torch.nn.Linear(self.hs, 28)\n",
    "\n",
    "    def forward(self, sentences, state=None):\n",
    "        x = self.embedding(sentences)\n",
    "        batch_size, sequence_length, _ = x.size()\n",
    "        if state is None:\n",
    "            state = torch.zeros(batch_size, self.hs).to(x.device)\n",
    "        \n",
    "        outputs = []\n",
    "        for t in range(sequence_length):\n",
    "            state = self.rnn_cell(x[:, t, :], state)\n",
    "            outputs.append(state)\n",
    "        \n",
    "        outputs = torch.stack(outputs, dim=1)\n",
    "        \n",
    "        return self.out(outputs)"
   ]
  },
  {
   "cell_type": "code",
   "execution_count": 12,
   "metadata": {},
   "outputs": [
    {
     "data": {
      "text/plain": [
       "Network(\n",
       "  (embedding): Embedding(28, 64)\n",
       "  (rnn_cell): CustomRnnCell(\n",
       "    (input_to_hidden): Linear(in_features=1088, out_features=1024, bias=True)\n",
       "  )\n",
       "  (out): Linear(in_features=1024, out_features=28, bias=True)\n",
       ")"
      ]
     },
     "execution_count": 12,
     "metadata": {},
     "output_type": "execute_result"
    }
   ],
   "source": [
    "model = Network()\n",
    "model.to(device)"
   ]
  },
  {
   "cell_type": "code",
   "execution_count": 13,
   "metadata": {},
   "outputs": [],
   "source": [
    "criterion = torch.nn.CrossEntropyLoss() \n",
    "\n",
    "optimizer = torch.optim.Adam(model.parameters(), lr=0.00001) \n"
   ]
  },
  {
   "cell_type": "code",
   "execution_count": 20,
   "metadata": {},
   "outputs": [
    {
     "data": {
      "image/png": "[encoded data removed]",
      "text/plain": [
       "<Figure size 700x500 with 1 Axes>"
      ]
     },
     "metadata": {},
     "output_type": "display_data"
    },
    {
     "name": "stdout",
     "output_type": "stream",
     "text": [
      "Epoch 9. Time: 54.0422, Train loss: 0.5543\n"
     ]
    }
   ],
   "source": [
    "warnings.filterwarnings('ignore')\n",
    "\n",
    "fig, ax = plt.subplots(nrows = 1, ncols = 1, figsize=(7, 5))\n",
    "ax.grid()\n",
    "ax.set_title('Train Loss')\n",
    "\n",
    "losses = []\n",
    "\n",
    "model.load_state_dict(last_model_state)\n",
    "optimizer.load_state_dict(last_optim_state)\n",
    "\n",
    "for ep in range(10):\n",
    "    start = time.time()\n",
    "    train_loss = 0.\n",
    "    train_passed = 0\n",
    "    batch_size = 100\n",
    "\n",
    "    for i in range(int(len(X) / batch_size)):\n",
    "        batch = X[i * batch_size:(i + 1) * batch_size]\n",
    "        X_batch = batch[:, :-1].to(device)\n",
    "        Y_batch = batch[:, 1:].flatten().to(device)\n",
    "\n",
    "        optimizer.zero_grad()\n",
    "        answers = model.forward(X_batch)\n",
    "        answers = answers.view(-1, len(INDEX_TO_CHAR))\n",
    "        loss = criterion(answers, Y_batch)\n",
    "        train_loss += loss.item()\n",
    "        \n",
    "\n",
    "        loss.backward()\n",
    "        optimizer.step()\n",
    "        \n",
    "        train_passed += 1\n",
    "    losses.append(train_loss / train_passed)\n",
    "    sns.lineplot(losses, c='red', ax = ax)\n",
    "    display.display(fig, clear=True)\n",
    "    plt.close()\n",
    "\n",
    "    print(\"Epoch {}. Time: {:.4f}, Train loss: {:.4f}\".format(ep, time.time() - start, train_loss / train_passed))"
   ]
  },
  {
   "cell_type": "code",
   "execution_count": 21,
   "metadata": {},
   "outputs": [],
   "source": [
    "#Обучается только с очень низким LR. Несколько циклов обучения, чтобы достичь приемлемого значения функции потерь.\n",
    "\n",
    "last_model_state = model.state_dict()\n",
    "last_optim_state = optimizer.state_dict()"
   ]
  },
  {
   "cell_type": "code",
   "execution_count": 22,
   "metadata": {},
   "outputs": [],
   "source": [
    "torch.save(model.state_dict(), 'custom_rnn_weights.pth')\n",
    "torch.save(optimizer.state_dict(), 'custom_rnn_optimizer.pth')"
   ]
  },
  {
   "cell_type": "code",
   "execution_count": 162,
   "metadata": {},
   "outputs": [],
   "source": [
    "def generate_phrase(prompt):\n",
    "    prompt = prompt\n",
    "    prompt_list = list(prompt)\n",
    "    prompt_ind = [CHAR_TO_INDEX.get(s, 0) for s in prompt_list]\n",
    "\n",
    "    answers = model.forward(torch.tensor(prompt_ind).unsqueeze(0).to(device))\n",
    "    _, index = answers.topk(1)\n",
    "    last_index = index.flatten()[-1].item()\n",
    "    if last_index == 0:\n",
    "        return prompt\n",
    "    prompt_ind.append(last_index)\n",
    "    prompt = ''.join([INDEX_TO_CHAR[ind] for ind in prompt_ind])\n",
    "    return prompt\n",
    "    # return ''.join([INDEX_TO_CHAR[ind] for ind in prompt_ind])\n"
   ]
  },
  {
   "cell_type": "code",
   "execution_count": 167,
   "metadata": {},
   "outputs": [
    {
     "name": "stdout",
     "output_type": "stream",
     "text": [
      "crusty the clown your son is a problem with the thing ive got to stop her anymore i want to see the t\n"
     ]
    }
   ],
   "source": [
    "prompt = 'crusty'\n",
    "while len(prompt) <= 100:\n",
    "    new_prompt = generate_phrase(prompt)\n",
    "    if new_prompt == prompt:\n",
    "        break\n",
    "    prompt = new_prompt\n",
    "\n",
    "print(prompt)"
   ]
  }
 ],
 "metadata": {
  "kernelspec": {
   "display_name": "base",
   "language": "python",
   "name": "python3"
  },
  "language_info": {
   "codemirror_mode": {
    "name": "ipython",
    "version": 3
   },
   "file_extension": ".py",
   "mimetype": "text/x-python",
   "name": "python",
   "nbconvert_exporter": "python",
   "pygments_lexer": "ipython3",
   "version": "3.11.8"
  }
 },
 "nbformat": 4,
 "nbformat_minor": 2
}
