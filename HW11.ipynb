{
 "cells": [
  {
   "cell_type": "code",
   "execution_count": 121,
   "metadata": {},
   "outputs": [],
   "source": [
    "import polars as pl\n",
    "import gensim\n",
    "from bokeh.plotting import figure, show, output_notebook\n",
    "from bokeh.models import HoverTool\n",
    "import numpy as np\n",
    "from nltk.tokenize import word_tokenize\n",
    "from nltk.stem import WordNetLemmatizer\n",
    "from nltk.corpus import stopwords\n",
    "from sklearn.manifold import TSNE\n",
    "import string"
   ]
  },
  {
   "cell_type": "code",
   "execution_count": 253,
   "metadata": {},
   "outputs": [
    {
     "data": {
      "text/html": [
       "<div><style>\n",
       ".dataframe > thead > tr,\n",
       ".dataframe > tbody > tr {\n",
       "  text-align: right;\n",
       "  white-space: pre-wrap;\n",
       "}\n",
       "</style>\n",
       "<small>shape: (132_110, 4)</small><table border=\"1\" class=\"dataframe\"><thead><tr><th>character_id</th><th>raw_character_text</th><th>spoken_words</th><th>tokenized</th></tr><tr><td>i64</td><td>str</td><td>str</td><td>list[str]</td></tr></thead><tbody><tr><td>464</td><td>&quot;Miss Hoover&quot;</td><td>&quot;No, actually, it was a little …</td><td>[&quot;actually&quot;, &quot;a&quot;, … &quot;.&quot;]</td></tr><tr><td>9</td><td>&quot;Lisa Simpson&quot;</td><td>&quot;Where&#x27;s Mr. Bergstrom?&quot;</td><td>[&quot;&#x27;s&quot;, &quot;mr.&quot;, &quot;bergstrom&quot;]</td></tr><tr><td>464</td><td>&quot;Miss Hoover&quot;</td><td>&quot;I don&#x27;t know. Although I&#x27;d sur…</td><td>[&quot;do&quot;, &quot;n&#x27;t&quot;, … &quot;?&quot;]</td></tr><tr><td>9</td><td>&quot;Lisa Simpson&quot;</td><td>&quot;That life is worth living.&quot;</td><td>[&quot;life&quot;, &quot;worth&quot;, &quot;living&quot;]</td></tr><tr><td>40</td><td>&quot;Edna Krabappel-Flanders&quot;</td><td>&quot;The polls will be open from no…</td><td>[&quot;polls&quot;, &quot;be&quot;, … &quot;martin&quot;]</td></tr><tr><td>&hellip;</td><td>&hellip;</td><td>&hellip;</td><td>&hellip;</td></tr><tr><td>464</td><td>&quot;Miss Hoover&quot;</td><td>&quot;I&#x27;m back.&quot;</td><td>[&quot;&#x27;m&quot;, &quot;back&quot;]</td></tr><tr><td>464</td><td>&quot;Miss Hoover&quot;</td><td>&quot;You see, class, my Lyme diseas…</td><td>[&quot;see&quot;, &quot;class&quot;, … &quot;...&quot;]</td></tr><tr><td>464</td><td>&quot;Miss Hoover&quot;</td><td>&quot;Psy-cho-so-ma-tic.&quot;</td><td>[&quot;psy-cho-so-ma-tic&quot;]</td></tr><tr><td>119</td><td>&quot;Ralph Wiggum&quot;</td><td>&quot;Does that mean you were crazy?&quot;</td><td>[&quot;that&quot;, &quot;mean&quot;, … &quot;crazy&quot;]</td></tr><tr><td>4</td><td>&quot;JANEY&quot;</td><td>&quot;No, that means she was faking …</td><td>[&quot;,&quot;, &quot;means&quot;, … &quot;.&quot;]</td></tr></tbody></table></div>"
      ],
      "text/plain": [
       "shape: (132_110, 4)\n",
       "┌──────────────┬─────────────────────────┬────────────────────────────┬────────────────────────────┐\n",
       "│ character_id ┆ raw_character_text      ┆ spoken_words               ┆ tokenized                  │\n",
       "│ ---          ┆ ---                     ┆ ---                        ┆ ---                        │\n",
       "│ i64          ┆ str                     ┆ str                        ┆ list[str]                  │\n",
       "╞══════════════╪═════════════════════════╪════════════════════════════╪════════════════════════════╡\n",
       "│ 464          ┆ Miss Hoover             ┆ No, actually, it was a     ┆ [\"actually\", \"a\", … \".\"]   │\n",
       "│              ┆                         ┆ little …                   ┆                            │\n",
       "│ 9            ┆ Lisa Simpson            ┆ Where's Mr. Bergstrom?     ┆ [\"'s\", \"mr.\", \"bergstrom\"] │\n",
       "│ 464          ┆ Miss Hoover             ┆ I don't know. Although I'd ┆ [\"do\", \"n't\", … \"?\"]       │\n",
       "│              ┆                         ┆ sur…                       ┆                            │\n",
       "│ 9            ┆ Lisa Simpson            ┆ That life is worth living. ┆ [\"life\", \"worth\",          │\n",
       "│              ┆                         ┆                            ┆ \"living\"]                  │\n",
       "│ 40           ┆ Edna Krabappel-Flanders ┆ The polls will be open     ┆ [\"polls\", \"be\", …          │\n",
       "│              ┆                         ┆ from no…                   ┆ \"martin\"]                  │\n",
       "│ …            ┆ …                       ┆ …                          ┆ …                          │\n",
       "│ 464          ┆ Miss Hoover             ┆ I'm back.                  ┆ [\"'m\", \"back\"]             │\n",
       "│ 464          ┆ Miss Hoover             ┆ You see, class, my Lyme    ┆ [\"see\", \"class\", … \"...\"]  │\n",
       "│              ┆                         ┆ diseas…                    ┆                            │\n",
       "│ 464          ┆ Miss Hoover             ┆ Psy-cho-so-ma-tic.         ┆ [\"psy-cho-so-ma-tic\"]      │\n",
       "│ 119          ┆ Ralph Wiggum            ┆ Does that mean you were    ┆ [\"that\", \"mean\", …         │\n",
       "│              ┆                         ┆ crazy?                     ┆ \"crazy\"]                   │\n",
       "│ 4            ┆ JANEY                   ┆ No, that means she was     ┆ [\",\", \"means\", … \".\"]      │\n",
       "│              ┆                         ┆ faking …                   ┆                            │\n",
       "└──────────────┴─────────────────────────┴────────────────────────────┴────────────────────────────┘"
      ]
     },
     "execution_count": 253,
     "metadata": {},
     "output_type": "execute_result"
    }
   ],
   "source": [
    "df = pl.scan_csv('simpsons_script_lines.csv',\n",
    "                 ignore_errors = True).select(['character_id', 'raw_character_text', 'spoken_words']).drop_nulls().collect()\n",
    "lemmatizer = WordNetLemmatizer()\n",
    "token_list = [word_tokenize(str.lower(phrase), language='english') for phrase in df['spoken_words'].to_list()]\n",
    "\n",
    "stop_words = list(stopwords.words('english')) + list(string.punctuation) + ['...']\n",
    "for phrase in token_list:\n",
    "    for word in phrase:\n",
    "        if word not in stop_words:\n",
    "            word = lemmatizer.lemmatize(word)\n",
    "        else:\n",
    "            phrase.remove(word)\n",
    "\n",
    "df.insert_column(3, pl.Series('tokenized', token_list))"
   ]
  },
  {
   "cell_type": "code",
   "execution_count": 254,
   "metadata": {},
   "outputs": [
    {
     "name": "stderr",
     "output_type": "stream",
     "text": [
      "e:\\Anaconda\\Lib\\site-packages\\sklearn\\manifold\\_t_sne.py:1164: FutureWarning: 'n_iter' was renamed to 'max_iter' in version 1.5 and will be removed in 1.7.\n",
      "  warnings.warn(\n"
     ]
    }
   ],
   "source": [
    "w2v = gensim.models.Word2Vec(token_list, \n",
    "                            vector_size=64, \n",
    "                            window=5,\n",
    "                            min_count=1, \n",
    "                            workers=16)\n",
    "\n",
    "top_n = 1000\n",
    "words = [word for word in w2v.wv.index_to_key[:top_n]]\n",
    "vectors = np.array([w2v.wv[word] for word in words])\n",
    "\n",
    "tsne = TSNE(n_components=2, \n",
    "            random_state=42, \n",
    "            perplexity=30, \n",
    "            n_iter=3000)\n",
    "vectors_2d = tsne.fit_transform(vectors)\n",
    "\n",
    "vectors_df = pl.from_numpy(vectors_2d, schema=[\"X\", \"Y\"]).with_columns(pl.Series(name=\"words\", values=words))"
   ]
  },
  {
   "cell_type": "code",
   "execution_count": 325,
   "metadata": {},
   "outputs": [
    {
     "data": {
      "text/html": [
       "\n",
       "  <div id=\"ee1e9074-8d1d-4d31-b325-dbe7dcdbba51\" data-root-id=\"p2858\" style=\"display: contents;\"></div>\n"
      ]
     },
     "metadata": {},
     "output_type": "display_data"
    },
    {
     "data": {
      "application/javascript": "(function(root) {\n  function embed_document(root) {\n  const docs_json = {\"bfd03c6e-0705-4905-95d6-69187074921a\":{\"version\":\"3.3.4\",\"title\":\"Bokeh Application\",\"roots\":[{\"type\":\"object\",\"name\":\"Figure\",\"id\":\"p2858\",\"attributes\":{\"width\":800,\"x_range\":{\"type\":\"object\",\"name\":\"DataRange1d\",\"id\":\"p2859\"},\"y_range\":{\"type\":\"object\",\"name\":\"DataRange1d\",\"id\":\"p2860\"},\"x_scale\":{\"type\":\"object\",\"name\":\"LinearScale\",\"id\":\"p2868\"},\"y_scale\":{\"type\":\"object\",\"name\":\"LinearScale\",\"id\":\"p2869\"},\"title\":{\"type\":\"object\",\"name\":\"Title\",\"id\":\"p2861\",\"attributes\":{\"text\":\"\\u042d\\u043c\\u0431\\u0435\\u0434\\u0434\\u0438\\u043d\\u0433\\u0438 Word2Vec (t-SNE)\"}},\"renderers\":[{\"type\":\"object\",\"name\":\"GlyphRenderer\",\"id\":\"p2901\",\"attributes\":{\"data_source\":{\"type\":\"object\",\"name\":\"ColumnDataSource\",\"id\":\"p2892\",\"attributes\":{\"selected\":{\"type\":\"object\",\"name\":\"Selection\",\"id\":\"p2893\",\"attributes\":{\"indices\":[],\"line_indices\":[]}},\"selection_policy\":{\"type\":\"object\",\"name\":\"UnionRenderers\",\"id\":\"p2894\"},\"data\":{\"type\":\"map\",\"entries\":[[\"index\",{\"type\":\"ndarray\",\"array\":{\"type\":\"bytes\",\"data\":\"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\"},\"shape\":[1000],\"dtype\":\"int32\",\"order\":\"little\"}],[\"X\",{\"type\":\"ndarray\",\"array\":{\"type\":\"bytes\",\"data\":\"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\"},\"shape\":[1000],\"dtype\":\"float32\",\"order\":\"little\"}],[\"Y\",{\"type\":\"ndarray\",\"array\":{\"type\":\"bytes\",\"data\":\"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\"},\"shape\":[1000],\"dtype\":\"float32\",\"order\":\"little\"}],[\"words\",{\"type\":\"ndarray\",\"array\":[\"'s\",\"i\",\"the\",\"you\",\"n't\",\".\",\"a\",\",\",\"'m\",\"'re\",\"oh\",\"it\",\"!\",\"and\",\"``\",\"''\",\"that\",\"do\",\"'ll\",\"well\",\"like\",\"we\",\"to\",\"my\",\"?\",\"get\",\"this\",\"one\",\"know\",\"'ve\",\"got\",\"but\",\"--\",\"your\",\"hey\",\"homer\",\"right\",\"go\",\"bart\",\"what\",\"is\",\"na\",\"let\",\"...\",\"see\",\"good\",\"yeah\",\"think\",\"have\",\"want\",\"he\",\"could\",\"marge\",\"ca\",\"look\",\"man\",\"gon\",\"dad\",\"be\",\"little\",\"in\",\"back\",\"all\",\"would\",\"uh\",\"me\",\"okay\",\"just\",\"now\",\"time\",\"there\",\"was\",\"come\",\"us\",\"can\",\"take\",\"'d\",\"never\",\"they\",\"simpson\",\"are\",\"lisa\",\"say\",\"so\",\"no\",\"make\",\"for\",\"yes\",\"if\",\"really\",\"did\",\"love\",\"going\",\"of\",\"way\",\"here\",\"something\",\"two\",\"boy\",\"mr.\",\"people\",\"need\",\"our\",\"sorry\",\"how\",\"tell\",\"day\",\"please\",\"sure\",\"not\",\"mom\",\"thing\",\"give\",\"new\",\"/\",\"kids\",\"with\",\"on\",\"wait\",\"god\",\"first\",\"great\",\"ever\",\"better\",\"stop\",\"sir\",\"even\",\"life\",\"maybe\",\"an\",\"old\",\"help\",\"thank\",\"why\",\"home\",\"springfield\",\"mean\",\"big\",\"his\",\"much\",\"made\",\"show\",\"son\",\"said\",\"put\",\"still\",\"school\",\"work\",\"money\",\"she\",\"always\",\"call\",\"three\",\"last\",\"ya\",\"thought\",\"guy\",\"ta\",\"name\",\"will\",\"must\",\"some\",\"where\",\"family\",\"ah\",\"out\",\"every\",\"when\",\"find\",\"moe\",\"house\",\"world\",\"at\",\"hello\",\"baby\",\"huh\",\"then\",\"guess\",\"bad\",\"anything\",\"who\",\"were\",\"wo\",\"feel\",\"night\",\"things\",\"should\",\"up\",\"thanks\",\"burns\",\"next\",\"place\",\"away\",\"wow\",\"guys\",\"years\",\"keep\",\"am\",\"or\",\"today\",\"nothing\",\"believe\",\"krusty\",\"everyone\",\"as\",\"everything\",\"those\",\"lot\",\"nice\",\"about\",\"real\",\"remember\",\"long\",\"another\",\"best\",\"these\",\"father\",\"car\",\"ooh\",\"someone\",\"hear\",\"fine\",\"use\",\"around\",\"happy\",\"too\",\"stupid\",\"mother\",\"talk\",\"eat\",\"done\",\"more\",\"girl\",\"dog\",\"children\",\"kill\",\"wrong\",\"fun\",\"eh\",\"play\",\"may\",\"wan\",\"ow\",\"honey\",\"worry\",\"'em\",\"looks\",\"only\",\"milhouse\",\"does\",\"had\",\"town\",\"from\",\"five\",\"aw\",\"job\",\"kid\",\"hell\",\"dollars\",\"whoa\",\"enough\",\"friend\",\"tonight\",\"maggie\",\"kind\",\"listen\",\"homie\",\"many\",\"minute\",\"left\",\"turn\",\"getting\",\"without\",\"might\",\"um\",\"friends\",\"cool\",\"try\",\"leave\",\"watch\",\"live\",\"her\",\"flanders\",\"room\",\"hundred\",\"seen\",\"care\",\"free\",\"beer\",\"been\",\"everybody\",\"tv\",\"wife\",\"pretty\",\"check\",\"head\",\"used\",\"dead\",\"shut\",\"coming\",\"'cause\",\"c'mon\",\"says\",\"book\",\"hope\",\"any\",\"year\",\"boys\",\"welcome\",\"sweet\",\"stay\",\"told\",\"their\",\"miss\",\"actually\",\"whole\",\"game\",\"start\",\"buy\",\"movie\",\"wanted\",\"hi\",\"already\",\"him\",\"young\",\"four\",\"over\",\"face\",\"trying\",\"because\",\"course\",\"gone\",\"heard\",\"talking\",\"smithers\",\"pay\",\"lost\",\"other\",\"stuff\",\"found\",\"wish\",\"forget\",\"very\",\"run\",\"read\",\"beautiful\",\"came\",\"crazy\",\"hard\",\"ten\",\"party\",\"ai\",\"since\",\"dear\",\"idea\",\"together\",\"hot\",\"makes\",\"mind\",\"afraid\",\"fat\",\"die\",\"happened\",\"problem\",\"ha\",\"true\",\"anyone\",\"called\",\"hate\",\"woo\",\"christmas\",\"by\",\"finally\",\"which\",\"story\",\"woman\",\"tomorrow\",\"end\",\"food\",\"down\",\"lady\",\"bring\",\"chief\",\"word\",\"ask\",\"daddy\",\"else\",\"ned\",\"heart\",\"win\",\"cut\",\"hold\",\"own\",\"off\",\"week\",\"excuse\",\"funny\",\"heh\",\"open\",\"yet\",\"hmm\",\"skinner\",\"went\",\"power\",\"eyes\",\"looking\",\"number\",\"lord\",\"least\",\"making\",\"perfect\",\"part\",\"hair\",\"grampa\",\"also\",\"hoo\",\"saying\",\"days\",\"special\",\"them\",\"mrs.\",\"took\",\"save\",\"full\",\"business\",\"knew\",\"six\",\"second\",\"ready\",\"change\",\"america\",\"saw\",\"wants\",\"point\",\"husband\",\"taking\",\"class\",\"comes\",\"morning\",\"dinner\",\"move\",\"hit\",\"fire\",\"haw\",\"has\",\"meet\",\"thousand\",\"easy\",\"gave\",\"uh-oh\",\"pick\",\"city\",\"gets\",\"means\",\"news\",\"hand\",\"understand\",\"again\",\"doing\",\"drink\",\"bob\",\"goes\",\"men\",\"bed\",\"dream\",\"married\",\"supposed\",\"brother\",\"break\",\"deal\",\"sleep\",\"anymore\",\"bar\",\"hurt\",\"water\",\"minutes\",\"store\",\"times\",\"door\",\"hm\",\"fight\",\"music\",\"song\",\"most\",\"needs\",\"thinking\",\"set\",\"before\",\"phone\",\"eight\",\"la\",\"sounds\",\"nobody\",\"alone\",\"stand\",\"whatever\",\"answer\",\"sign\",\"rock\",\"late\",\"brought\",\"mine\",\"president\",\"outta\",\"doctor\",\"hands\",\"attention\",\"watching\",\"rest\",\"poor\",\"enjoy\",\"hours\",\"mad\",\"drive\",\"important\",\"side\",\"sit\",\"bet\",\"death\",\"million\",\"hmmm\",\"kiss\",\"test\",\"soon\",\"plant\",\"till\",\"nelson\",\"wonderful\",\"birthday\",\"ladies\",\"ago\",\"glad\",\"ice\",\"anyway\",\"chance\",\"top\",\"except\",\"sister\",\"forever\",\"line\",\"lenny\",\"learn\",\"quit\",\"matter\",\"damn\",\"secret\",\"working\",\"pants\",\"apu\",\"clown\",\"inside\",\"country\",\"ball\",\"air\",\"women\",\"walk\",\"close\",\"girls\",\"team\",\"throw\",\"somebody\",\"probably\",\"later\",\"sound\",\"once\",\"marriage\",\"gentlemen\",\"ride\",\"fair\",\"picture\",\"eye\",\"being\",\"parents\",\"principal\",\"american\",\"trouble\",\"while\",\"lis\",\"box\",\"seymour\",\"alive\",\"after\",\"goodbye\",\"plan\",\"seems\",\"behind\",\"card\",\"quite\",\"learned\",\"future\",\"question\",\"church\",\"exactly\",\"shall\",\"goin\",\"simpsons\",\"front\",\"happen\",\"write\",\"shot\",\"killed\",\"spend\",\"clean\",\"send\",\"folks\",\"dance\",\"sweetie\",\"case\",\"words\",\"eating\",\"half\",\"seven\",\"saved\",\"bit\",\"dr.\",\"bus\",\"beat\",\"police\",\"fast\",\"sick\",\"daughter\",\"red\",\"willie\",\"candy\",\"terrible\",\"ralph\",\"doin\",\"king\",\"high\",\":\",\"started\",\"into\",\"fifty\",\"same\",\"knows\",\"child\",\"person\",\"cream\",\"truth\",\"lose\",\"state\",\"'bout\",\"cat\",\"far\",\"proud\",\"order\",\"kent\",\"worse\",\"teach\",\"body\",\"sell\",\"war\",\"gim\",\"lives\",\"earth\",\"favorite\",\"living\",\"bill\",\"almost\",\"itchy\",\"catch\",\"reason\",\"become\",\"smell\",\"lie\",\"blue\",\"turned\",\"quiet\",\"telling\",\"butt\",\"rich\",\"bought\",\"wedding\",\"tree\",\"honor\",\"moment\",\"dude\",\"such\",\"blood\",\"pie\",\"mmm\",\"nothin\",\"tried\",\"safe\",\"along\",\"couple\",\"nine\",\"wear\",\"human\",\"light\",\"bucks\",\"greatest\",\"santa\",\"oooh\",\"playing\",\"worst\",\"ahead\",\"date\",\"nuclear\",\"ho\",\"hour\",\"brain\",\"comin\",\"different\",\"likes\",\"star\",\"than\",\"paper\",\"fish\",\"less\",\"twenty\",\"monkey\",\"join\",\"feeling\",\"return\",\"mouth\",\"bear\",\"hat\",\"ooo\",\"stick\",\"gay\",\"art\",\"selma\",\"small\",\"seem\",\"act\",\"soul\",\"teacher\",\"carl\",\"sometimes\",\"promise\",\"machine\",\"perhaps\",\"wonder\",\"barney\",\"lucky\",\"roll\",\"instead\",\"outside\",\"cold\",\"pass\",\"using\",\"paid\",\"dogs\",\"giving\",\"excellent\",\"drunk\",\"either\",\"ass\",\"floor\",\"smart\",\"dollar\",\"company\",\"few\",\"wearing\",\"lunch\",\"street\",\"trip\",\"club\",\"sad\",\"quick\",\"met\",\"hero\",\"fact\",\"film\",\"bag\",\"taken\",\"kinda\",\"uh-huh\",\"books\",\"gas\",\"speak\",\"wake\",\"edna\",\"monster\",\"relax\",\"tired\",\"worth\",\"fault\",\"law\",\"sold\",\"sex\",\"present\",\"piece\",\"takes\",\"its\",\"crap\",\"movies\",\"land\",\"scratchy\",\"da\",\"lousy\",\"straight\",\"sideshow\",\"works\",\"extra\",\"pull\",\"drop\",\"fly\",\"voice\",\"evil\",\"touch\",\"white\",\"hang\",\"black\",\"feet\",\"fired\",\"laugh\",\"park\",\"office\",\"duff\",\"forgot\",\"shoot\",\"space\",\"luck\",\"broke\",\"unless\",\"choice\",\"gun\",\"mayor\",\"pizza\",\"gettin\",\"college\",\"cute\",\"horrible\",\"surprise\",\"boss\",\"third\",\"past\",\"super\",\"anybody\",\"leaving\",\"nose\",\"died\",\"ones\",\"plus\",\"yo\",\"thinks\",\"problems\",\"though\",\"angry\",\"seat\",\"coffee\",\"drinking\",\"afford\",\"idiot\",\"lou\",\"age\",\"hurry\",\"step\",\"table\",\"buddy\",\"ring\",\"worked\",\"asked\",\"driving\",\"running\",\"evening\",\"known\",\"sugar\",\"clear\",\"loves\",\"weird\",\"dreams\",\"awesome\",\"longer\",\"prison\",\"heaven\",\"field\",\"happens\",\"stuck\",\"public\",\"felt\",\"nah\",\"judge\",\"cheese\",\"system\",\"burn\",\"fall\",\"trust\",\"history\",\"fool\",\"fresh\",\"local\",\"loved\",\"milk\",\"wrote\",\"blah\",\"sing\",\"through\",\"nuts\",\"martin\",\"certainly\",\"blow\",\"gee\",\"ma'am\",\"vote\",\"pain\",\"calling\",\"each\",\"share\",\"questions\",\"band\",\"magic\",\"wiggum\",\"breakfast\",\"changed\",\"babies\",\"missing\",\"bird\",\"letter\",\"absolutely\",\"visit\",\"early\",\"grow\",\"lesson\",\"months\",\"report\",\"cake\",\"weeks\",\"suit\",\"court\",\"ruined\",\"yay\",\"grade\",\"missed\",\"gift\",\"summer\",\"tickets\",\"mister\",\"sense\",\"finish\",\"reading\",\"joe\",\"service\",\"jerk\",\"peace\",\"chocolate\",\"meat\",\"somewhere\",\"twelve\",\"safety\",\"science\",\"chicken\",\"ate\",\"sea\",\"tough\",\"sent\",\"marry\",\"low\",\"chair\",\"center\",\"follow\",\"yours\",\"garbage\",\"clothes\",\"jesus\",\"month\",\"born\",\"window\",\"animals\",\"yep\",\"steal\",\"sort\",\"bathroom\",\"bite\",\"respect\",\"cover\",\"queen\",\"channel\",\"having\",\"none\",\"explain\",\"talkin\",\"caught\",\"both\",\"lookin\",\"toilet\",\"short\",\"cost\",\"starting\",\"list\",\"meant\",\"fear\",\"hole\",\"gold\",\"boat\",\"joke\",\"thirty\",\"yourself\",\"knock\",\"john\",\"horse\",\"ohhh\",\"kidding\",\"abe\",\"shoes\",\"swear\",\"captain\",\"handle\"],\"shape\":[1000],\"dtype\":\"object\",\"order\":\"little\"}]]}}},\"view\":{\"type\":\"object\",\"name\":\"CDSView\",\"id\":\"p2902\",\"attributes\":{\"filter\":{\"type\":\"object\",\"name\":\"AllIndices\",\"id\":\"p2903\"}}},\"glyph\":{\"type\":\"object\",\"name\":\"Scatter\",\"id\":\"p2898\",\"attributes\":{\"x\":{\"type\":\"field\",\"field\":\"X\"},\"y\":{\"type\":\"field\",\"field\":\"Y\"},\"size\":{\"type\":\"value\",\"value\":15},\"line_color\":{\"type\":\"value\",\"value\":\"forestgreen\"},\"line_alpha\":{\"type\":\"value\",\"value\":0.5},\"fill_color\":{\"type\":\"value\",\"value\":\"forestgreen\"},\"fill_alpha\":{\"type\":\"value\",\"value\":0.5},\"hatch_color\":{\"type\":\"value\",\"value\":\"forestgreen\"},\"hatch_alpha\":{\"type\":\"value\",\"value\":0.5},\"marker\":{\"type\":\"value\",\"value\":\"hex\"}}},\"nonselection_glyph\":{\"type\":\"object\",\"name\":\"Scatter\",\"id\":\"p2899\",\"attributes\":{\"x\":{\"type\":\"field\",\"field\":\"X\"},\"y\":{\"type\":\"field\",\"field\":\"Y\"},\"size\":{\"type\":\"value\",\"value\":15},\"line_color\":{\"type\":\"value\",\"value\":\"forestgreen\"},\"line_alpha\":{\"type\":\"value\",\"value\":0.1},\"fill_color\":{\"type\":\"value\",\"value\":\"forestgreen\"},\"fill_alpha\":{\"type\":\"value\",\"value\":0.1},\"hatch_color\":{\"type\":\"value\",\"value\":\"forestgreen\"},\"hatch_alpha\":{\"type\":\"value\",\"value\":0.1},\"marker\":{\"type\":\"value\",\"value\":\"hex\"}}},\"muted_glyph\":{\"type\":\"object\",\"name\":\"Scatter\",\"id\":\"p2900\",\"attributes\":{\"x\":{\"type\":\"field\",\"field\":\"X\"},\"y\":{\"type\":\"field\",\"field\":\"Y\"},\"size\":{\"type\":\"value\",\"value\":15},\"line_color\":{\"type\":\"value\",\"value\":\"forestgreen\"},\"line_alpha\":{\"type\":\"value\",\"value\":0.2},\"fill_color\":{\"type\":\"value\",\"value\":\"forestgreen\"},\"fill_alpha\":{\"type\":\"value\",\"value\":0.2},\"hatch_color\":{\"type\":\"value\",\"value\":\"forestgreen\"},\"hatch_alpha\":{\"type\":\"value\",\"value\":0.2},\"marker\":{\"type\":\"value\",\"value\":\"hex\"}}}}}],\"toolbar\":{\"type\":\"object\",\"name\":\"Toolbar\",\"id\":\"p2867\",\"attributes\":{\"tools\":[{\"type\":\"object\",\"name\":\"PanTool\",\"id\":\"p2880\"},{\"type\":\"object\",\"name\":\"WheelZoomTool\",\"id\":\"p2881\",\"attributes\":{\"renderers\":\"auto\"}},{\"type\":\"object\",\"name\":\"BoxZoomTool\",\"id\":\"p2882\",\"attributes\":{\"overlay\":{\"type\":\"object\",\"name\":\"BoxAnnotation\",\"id\":\"p2883\",\"attributes\":{\"syncable\":false,\"level\":\"overlay\",\"visible\":false,\"left\":{\"type\":\"number\",\"value\":\"nan\"},\"right\":{\"type\":\"number\",\"value\":\"nan\"},\"top\":{\"type\":\"number\",\"value\":\"nan\"},\"bottom\":{\"type\":\"number\",\"value\":\"nan\"},\"left_units\":\"canvas\",\"right_units\":\"canvas\",\"top_units\":\"canvas\",\"bottom_units\":\"canvas\",\"line_color\":\"black\",\"line_alpha\":1.0,\"line_width\":2,\"line_dash\":[4,4],\"fill_color\":\"lightgrey\",\"fill_alpha\":0.5}}}},{\"type\":\"object\",\"name\":\"SaveTool\",\"id\":\"p2888\"},{\"type\":\"object\",\"name\":\"ResetTool\",\"id\":\"p2889\"},{\"type\":\"object\",\"name\":\"HelpTool\",\"id\":\"p2890\"},{\"type\":\"object\",\"name\":\"HoverTool\",\"id\":\"p2891\",\"attributes\":{\"renderers\":\"auto\",\"tooltips\":[[\"word\",\"@words\"]]}}]}},\"left\":[{\"type\":\"object\",\"name\":\"LinearAxis\",\"id\":\"p2875\",\"attributes\":{\"ticker\":{\"type\":\"object\",\"name\":\"BasicTicker\",\"id\":\"p2876\",\"attributes\":{\"mantissas\":[1,2,5]}},\"formatter\":{\"type\":\"object\",\"name\":\"BasicTickFormatter\",\"id\":\"p2877\"},\"major_label_policy\":{\"type\":\"object\",\"name\":\"AllLabels\",\"id\":\"p2878\"}}}],\"below\":[{\"type\":\"object\",\"name\":\"LinearAxis\",\"id\":\"p2870\",\"attributes\":{\"ticker\":{\"type\":\"object\",\"name\":\"BasicTicker\",\"id\":\"p2871\",\"attributes\":{\"mantissas\":[1,2,5]}},\"formatter\":{\"type\":\"object\",\"name\":\"BasicTickFormatter\",\"id\":\"p2872\"},\"major_label_policy\":{\"type\":\"object\",\"name\":\"AllLabels\",\"id\":\"p2873\"}}}],\"center\":[{\"type\":\"object\",\"name\":\"Grid\",\"id\":\"p2874\",\"attributes\":{\"axis\":{\"id\":\"p2870\"}}},{\"type\":\"object\",\"name\":\"Grid\",\"id\":\"p2879\",\"attributes\":{\"dimension\":1,\"axis\":{\"id\":\"p2875\"}}}]}}]}};\n  const render_items = [{\"docid\":\"bfd03c6e-0705-4905-95d6-69187074921a\",\"roots\":{\"p2858\":\"ee1e9074-8d1d-4d31-b325-dbe7dcdbba51\"},\"root_ids\":[\"p2858\"]}];\n  root.Bokeh.embed.embed_items_notebook(docs_json, render_items);\n  }\n  if (root.Bokeh !== undefined) {\n    embed_document(root);\n  } else {\n    let attempts = 0;\n    const timer = setInterval(function(root) {\n      if (root.Bokeh !== undefined) {\n        clearInterval(timer);\n        embed_document(root);\n      } else {\n        attempts++;\n        if (attempts > 100) {\n          clearInterval(timer);\n          console.log(\"Bokeh: ERROR: Unable to run BokehJS code because BokehJS library is missing\");\n        }\n      }\n    }, 10, root)\n  }\n})(window);",
      "application/vnd.bokehjs_exec.v0+json": ""
     },
     "metadata": {
      "application/vnd.bokehjs_exec.v0+json": {
       "id": "p2858"
      }
     },
     "output_type": "display_data"
    }
   ],
   "source": [
    "# output_notebook()\n",
    "\n",
    "source = vectors_df.to_pandas()\n",
    "\n",
    "TOOLTIPS = [(\"word\", \"@words\")]\n",
    "\n",
    "p = figure(width=800, height=600, tooltips=TOOLTIPS,\n",
    "           title='Эмбеддинги Word2Vec (t-SNE)')\n",
    "\n",
    "p.hex('X', 'Y', size=15, color=\"forestgreen\", alpha=0.5, source=source)\n",
    "\n",
    "show(p)"
   ]
  },
  {
   "cell_type": "code",
   "execution_count": 333,
   "metadata": {},
   "outputs": [
    {
     "data": {
      "text/plain": [
       "'e:\\\\python_projects\\\\notebooks\\\\Deep learning\\\\Deep learning homeworks\\\\HW11\\\\plot.png'"
      ]
     },
     "execution_count": 333,
     "metadata": {},
     "output_type": "execute_result"
    }
   ],
   "source": [
    "from bokeh.io import export_png\n",
    "export_png(p, filename=\"plot.png\")"
   ]
  },
  {
   "cell_type": "code",
   "execution_count": 226,
   "metadata": {},
   "outputs": [
    {
     "name": "stdout",
     "output_type": "stream",
     "text": [
      "[('homer', 0.9710502028465271), ('marge', 0.9563987255096436), ('bart', 0.9552832245826721), ('lisa', 0.9360835552215576), ('milhouse', 0.8553897738456726)]\n",
      "[('school', 0.9496179223060608), ('game', 0.851958155632019), ('christmas', 0.830085813999176), ('town', 0.8289662599563599), ('dentist', 0.8202036023139954)]\n",
      "[('home', 0.9131438732147217), ('back', 0.8254780769348145), ('bed', 0.8186049461364746), ('sleep', 0.798312246799469), ('free', 0.7947134971618652)]\n"
     ]
    }
   ],
   "source": [
    "emb_sum1 = w2v.wv['homer'] + w2v.wv['marge'] + w2v.wv['bart']\n",
    "print(w2v.wv.most_similar(emb_sum1, topn=5))\n",
    "emb_sum2 = w2v.wv['bart'] - w2v.wv['lisa'] + w2v.wv['school']\n",
    "print(w2v.wv.most_similar(emb_sum2, topn=5))\n",
    "emb_sum3 = w2v.wv['marge'] - w2v.wv['homer'] + w2v.wv['home']\n",
    "print(w2v.wv.most_similar(emb_sum3, topn=5))"
   ]
  },
  {
   "cell_type": "code",
   "execution_count": 242,
   "metadata": {},
   "outputs": [
    {
     "name": "stdout",
     "output_type": "stream",
     "text": [
      "[('imagination', 0.9547594785690308), ('cuff', 0.9528318643569946), ('memory', 0.9526265263557434), ('kwik-e-mart', 0.9463292360305786), ('cat', 0.9458079934120178)]\n"
     ]
    }
   ],
   "source": [
    "emb_sum2 = w2v.wv['cat'] + w2v.wv['fly']\n",
    "print(w2v.wv.most_similar(emb_sum2, topn=5))"
   ]
  }
 ],
 "metadata": {
  "kernelspec": {
   "display_name": "base",
   "language": "python",
   "name": "python3"
  },
  "language_info": {
   "codemirror_mode": {
    "name": "ipython",
    "version": 3
   },
   "file_extension": ".py",
   "mimetype": "text/x-python",
   "name": "python",
   "nbconvert_exporter": "python",
   "pygments_lexer": "ipython3",
   "version": "3.11.8"
  }
 },
 "nbformat": 4,
 "nbformat_minor": 2
}
