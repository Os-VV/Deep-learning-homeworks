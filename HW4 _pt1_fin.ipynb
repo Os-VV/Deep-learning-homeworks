{
 "cells": [
  {
   "cell_type": "code",
   "execution_count": 1,
   "metadata": {},
   "outputs": [
    {
     "name": "stdout",
     "output_type": "stream",
     "text": [
      " Device: NVIDIA GeForce RTX 4070 Ti. Now using: cuda \n",
      " Torch Version: 2.2.1\n"
     ]
    }
   ],
   "source": [
    "import re\n",
    "import pandas as pd\n",
    "import os\n",
    "import torch\n",
    "from torch.utils.data import Dataset, DataLoader\n",
    "from torcheval.metrics import MulticlassAccuracy\n",
    "from nltk import ngrams\n",
    "import random\n",
    "import time\n",
    "import seaborn as sns\n",
    "import matplotlib.pyplot  as plt\n",
    "from IPython import display\n",
    "import warnings\n",
    "import numpy as np\n",
    "\n",
    "\n",
    "device = torch.device(\"cuda:0\" if torch.cuda.is_available() else \"cpu\")\n",
    "\n",
    "print(f' Device: {torch.cuda.get_device_name(0)}. Now using: {device.type}', '\\n',\n",
    "      f'Torch Version: {torch.version.__version__}')\n"
   ]
  },
  {
   "cell_type": "code",
   "execution_count": 2,
   "metadata": {},
   "outputs": [],
   "source": [
    "def split_sent(text):\n",
    "    text = re.sub(r'\\s+', ' ', text)\n",
    "    text = text.strip()\n",
    "    return text.split()\n",
    "\n",
    "def ngram_func(n, text):\n",
    "    if not n:\n",
    "        n = 3\n",
    "    ngram = ngrams(text.split(), n)\n",
    "    return ngram\n",
    "\n",
    "def ngram_df(ngrams_list):\n",
    "    n_grams = []\n",
    "    for n_gram in ngrams_list:\n",
    "        n_grams.extend([' '.join(i) for i in n_gram])\n",
    "    df = pd.DataFrame(n_grams, columns = ['n_gram'])\n",
    "    return df\n",
    "\n",
    "random_state = 666\n",
    "\n",
    "text_df = pd.read_csv('opencorp.csv', usecols=['text'])\n",
    "text_df = text_df.sample(frac = 0.33, random_state = random_state)\n",
    "\n",
    "text_df['words'] = text_df['text'].apply(split_sent)\n",
    "text_df['max_len'] = text_df['words'].apply(lambda x: [len(word) for word in x] if x else None)\n",
    "text_df = text_df.loc[~text_df['max_len'].isna()]\n",
    "text_df['max_len'] = text_df['max_len'].apply(lambda x: max(x))\n",
    "text_df = (text_df.loc[(text_df['max_len'] < 21) & (text_df['max_len'] > 2)])\n",
    "\n",
    "text_df_train = text_df.sample(frac = 0.75, random_state = random_state)\n",
    "text_df_test = text_df.drop(text_df_train.index)\n",
    "\n",
    "text_df_train.drop(columns = ['words', 'max_len'], inplace=True)\n",
    "text_df_test.drop(columns = ['words', 'max_len'], inplace=True)\n",
    "\n",
    "train_ngrams = ngram_df(text_df_train['text'].apply(lambda x: ngram_func(3, x)))\n",
    "test_ngrams = ngram_df(text_df_test['text'].apply(lambda x: ngram_func(3, x)))"
   ]
  },
  {
   "cell_type": "code",
   "execution_count": 3,
   "metadata": {},
   "outputs": [
    {
     "data": {
      "text/html": [
       "<div>\n",
       "<style scoped>\n",
       "    .dataframe tbody tr th:only-of-type {\n",
       "        vertical-align: middle;\n",
       "    }\n",
       "\n",
       "    .dataframe tbody tr th {\n",
       "        vertical-align: top;\n",
       "    }\n",
       "\n",
       "    .dataframe thead th {\n",
       "        text-align: right;\n",
       "    }\n",
       "</style>\n",
       "<table border=\"1\" class=\"dataframe\">\n",
       "  <thead>\n",
       "    <tr style=\"text-align: right;\">\n",
       "      <th></th>\n",
       "      <th>n_gram</th>\n",
       "    </tr>\n",
       "  </thead>\n",
       "  <tbody>\n",
       "    <tr>\n",
       "      <th>0</th>\n",
       "      <td>в году требование</td>\n",
       "    </tr>\n",
       "    <tr>\n",
       "      <th>1</th>\n",
       "      <td>году требование повторилось</td>\n",
       "    </tr>\n",
       "    <tr>\n",
       "      <th>2</th>\n",
       "      <td>требование повторилось анфим</td>\n",
       "    </tr>\n",
       "    <tr>\n",
       "      <th>3</th>\n",
       "      <td>повторилось анфим вновь</td>\n",
       "    </tr>\n",
       "    <tr>\n",
       "      <th>4</th>\n",
       "      <td>анфим вновь отказался</td>\n",
       "    </tr>\n",
       "    <tr>\n",
       "      <th>...</th>\n",
       "      <td>...</td>\n",
       "    </tr>\n",
       "    <tr>\n",
       "      <th>323879</th>\n",
       "      <td>бунт возглавили александр</td>\n",
       "    </tr>\n",
       "    <tr>\n",
       "      <th>323880</th>\n",
       "      <td>возглавили александр богачёв</td>\n",
       "    </tr>\n",
       "    <tr>\n",
       "      <th>323881</th>\n",
       "      <td>александр богачёв и</td>\n",
       "    </tr>\n",
       "    <tr>\n",
       "      <th>323882</th>\n",
       "      <td>богачёв и александр</td>\n",
       "    </tr>\n",
       "    <tr>\n",
       "      <th>323883</th>\n",
       "      <td>и александр яхонов</td>\n",
       "    </tr>\n",
       "  </tbody>\n",
       "</table>\n",
       "<p>323884 rows × 1 columns</p>\n",
       "</div>"
      ],
      "text/plain": [
       "                              n_gram\n",
       "0                  в году требование\n",
       "1        году требование повторилось\n",
       "2       требование повторилось анфим\n",
       "3            повторилось анфим вновь\n",
       "4              анфим вновь отказался\n",
       "...                              ...\n",
       "323879     бунт возглавили александр\n",
       "323880  возглавили александр богачёв\n",
       "323881           александр богачёв и\n",
       "323882           богачёв и александр\n",
       "323883            и александр яхонов\n",
       "\n",
       "[323884 rows x 1 columns]"
      ]
     },
     "execution_count": 3,
     "metadata": {},
     "output_type": "execute_result"
    }
   ],
   "source": [
    "train_ngrams"
   ]
  },
  {
   "cell_type": "code",
   "execution_count": 4,
   "metadata": {},
   "outputs": [],
   "source": [
    "class CustomPdDataset(Dataset):\n",
    "    def __init__(self, dataframe, max_len):\n",
    "        self.alph = '* абвгдеёжзийклмнопрстуфхцчшщъыьэюя'\n",
    "        self.char_labels = torch.tensor([char[0] for char in enumerate(self.alph)])\n",
    "        self.dataframe = dataframe\n",
    "        self.max_len = max_len        \n",
    "        self.shift_value = random.randint(1, 33)\n",
    "        self.N = 512\n",
    "        self.count = 0\n",
    "\n",
    "    def __len__(self):\n",
    "        return len(self.dataframe)\n",
    "    def _text_to_tensor(self, text):\n",
    "        alph = self.alph\n",
    "        char_ind = [alph.index(char) for char in text]\n",
    "        char_ind = char_ind + [0] * (self.max_len - len(char_ind))\n",
    "        return torch.LongTensor(char_ind)\n",
    "    \n",
    "    def caesar(self, source_txt):\n",
    "\n",
    "        shift = self.shift_value\n",
    "        alph = self.alph\n",
    "        source_txt = re.sub(r'\\s+', ' ', source_txt).strip()\n",
    "        encr_ls = []\n",
    "        for char in source_txt:\n",
    "            if char in alph:\n",
    "                shifted_index = (alph.index(char) + shift) % len(alph)\n",
    "                encr_ls.append(alph[shifted_index])\n",
    "\n",
    "        encrypted = ''.join(encr_ls)\n",
    "        return encrypted\n",
    "    def __getitem__(self, idx):\n",
    "        self.count += 1\n",
    "        if self.count >= self.N:\n",
    "            self.shift_value = random.randint(1, 33)\n",
    "            self.count = 0\n",
    "        source_txt = self.dataframe.iloc[idx, 0]\n",
    "        \n",
    "        encrypted = self.caesar(source_txt)\n",
    "        source_tensor = self._text_to_tensor(source_txt)\n",
    "        encr_tensor = self._text_to_tensor(encrypted)\n",
    "\n",
    "        return torch.Tensor(source_tensor), torch.Tensor(encr_tensor)"
   ]
  },
  {
   "cell_type": "code",
   "execution_count": 5,
   "metadata": {},
   "outputs": [
    {
     "data": {
      "text/plain": [
       "(tensor([ 4,  1,  5, 17,  6, 22,  1, 21, 19,  7,  3, 17,  4,  2, 16, 11,  7,  0,\n",
       "          0,  0,  0,  0,  0,  0,  0,  0,  0,  0,  0,  0,  0,  0,  0,  0,  0,  0,\n",
       "          0,  0,  0,  0,  0,  0,  0,  0,  0,  0,  0,  0,  0,  0,  0,  0,  0,  0,\n",
       "          0,  0,  0,  0,  0,  0,  0,  0,  0,  0]),\n",
       " tensor([10,  7, 11, 23, 12, 28,  7, 27, 25, 13,  9, 23, 10,  8, 22, 17, 13,  0,\n",
       "          0,  0,  0,  0,  0,  0,  0,  0,  0,  0,  0,  0,  0,  0,  0,  0,  0,  0,\n",
       "          0,  0,  0,  0,  0,  0,  0,  0,  0,  0,  0,  0,  0,  0,  0,  0,  0,  0,\n",
       "          0,  0,  0,  0,  0,  0,  0,  0,  0,  0]))"
      ]
     },
     "execution_count": 5,
     "metadata": {},
     "output_type": "execute_result"
    }
   ],
   "source": [
    "temp_loader = CustomPdDataset(train_ngrams, 64)\n",
    "temp_loader.__getitem__(0)"
   ]
  },
  {
   "cell_type": "code",
   "execution_count": 6,
   "metadata": {},
   "outputs": [],
   "source": [
    "class Network(torch.nn.Module):\n",
    "    def __init__(self):\n",
    "        super(Network, self).__init__()\n",
    "        hidden_size = 512\n",
    "        embedding_dim = 32\n",
    "        self.embedding = torch.nn.Embedding(num_embeddings=35, \n",
    "                                            embedding_dim = embedding_dim,  \n",
    "                                            padding_idx=0)\n",
    "        \n",
    "        self.lstm = torch.nn.LSTM(input_size = embedding_dim, \n",
    "                                  hidden_size = hidden_size, \n",
    "                                  num_layers=1, \n",
    "                                  bidirectional=True, \n",
    "                                  batch_first=True\n",
    "                                  )\n",
    "        \n",
    "        self.fc1 = torch.nn.Linear(hidden_size*2, 512)\n",
    "        self.relu = torch.nn.ReLU()\n",
    "        self.dropout = torch.nn.Dropout(0.33)\n",
    "        self.out = torch.nn.Linear(512, 35)\n",
    "            \n",
    "    def forward(self, words, state=None):\n",
    "        x, _ = self.lstm(self.embedding(words))\n",
    "        x = self.relu(self.dropout(self.fc1(x)))\n",
    "        x = self.out(x)\n",
    "        return x"
   ]
  },
  {
   "cell_type": "code",
   "execution_count": 7,
   "metadata": {},
   "outputs": [
    {
     "name": "stdout",
     "output_type": "stream",
     "text": [
      "Network(\n",
      "  (embedding): Embedding(35, 32, padding_idx=0)\n",
      "  (lstm): LSTM(32, 512, batch_first=True, bidirectional=True)\n",
      "  (fc1): Linear(in_features=1024, out_features=512, bias=True)\n",
      "  (relu): ReLU()\n",
      "  (dropout): Dropout(p=0.33, inplace=False)\n",
      "  (out): Linear(in_features=512, out_features=35, bias=True)\n",
      ")\n"
     ]
    }
   ],
   "source": [
    "model = Network().to(device)\n",
    "print(model)"
   ]
  },
  {
   "cell_type": "code",
   "execution_count": 8,
   "metadata": {},
   "outputs": [],
   "source": [
    "model = Network().to(device)\n",
    "\n",
    "criterion = torch.nn.CrossEntropyLoss()\n",
    "\n",
    "train_accuracy = MulticlassAccuracy(num_classes=35).to(device)\n",
    "test_accuracy = MulticlassAccuracy(num_classes=35).to(device)\n",
    "\n",
    "optimizer = torch.optim.Adam(model.parameters(), \n",
    "                             lr=0.001, \n",
    "                             weight_decay=0.0001\n",
    "                             )\n",
    "scheduler = torch.optim.lr_scheduler.ReduceLROnPlateau(optimizer, \n",
    "                                                       mode='min', \n",
    "                                                       factor=0.2, \n",
    "                                                       patience=3, \n",
    "                                                       threshold=0.005)"
   ]
  },
  {
   "cell_type": "code",
   "execution_count": 9,
   "metadata": {},
   "outputs": [],
   "source": [
    "model.to(device)\n",
    "with torch.no_grad():\n",
    "    input_t = temp_loader.__getitem__(1)[1].to(device)\n",
    "    output = model(input_t)\n"
   ]
  },
  {
   "cell_type": "code",
   "execution_count": 10,
   "metadata": {},
   "outputs": [
    {
     "name": "stdout",
     "output_type": "stream",
     "text": [
      "tensor([11, 23, 12, 28,  7, 27, 25, 13,  9, 23, 10,  8, 22, 17, 13,  7, 24, 23,\n",
      "        10, 27, 23, 25, 17, 20, 23, 26,  2,  0,  0,  0,  0,  0,  0,  0,  0,  0,\n",
      "         0,  0,  0,  0,  0,  0,  0,  0,  0,  0,  0,  0,  0,  0,  0,  0,  0,  0,\n",
      "         0,  0,  0,  0,  0,  0,  0,  0,  0,  0], device='cuda:0') \n",
      " tensor([13, 34, 34, 13, 19, 34, 13, 33, 33, 13, 34, 34, 34, 34, 34, 34, 34, 34,\n",
      "        34, 34, 34, 34, 34, 34, 33, 34, 34, 34, 34, 34, 34, 34, 34, 34, 19, 34,\n",
      "        34, 34, 34, 34, 34, 34, 34, 34, 34, 34, 34, 19, 34, 34, 34, 34, 34, 34,\n",
      "        34, 19, 34, 34, 34, 34, 34, 34, 34, 34], device='cuda:0')\n"
     ]
    }
   ],
   "source": [
    "predicted_indices = torch.argmax(output, dim=1)\n",
    "print(input_t, '\\n', predicted_indices)"
   ]
  },
  {
   "cell_type": "code",
   "execution_count": 13,
   "metadata": {},
   "outputs": [
    {
     "data": {
      "image/png": "[encoded data removed]",
      "text/plain": [
       "<Figure size 1500x700 with 4 Axes>"
      ]
     },
     "metadata": {},
     "output_type": "display_data"
    },
    {
     "name": "stdout",
     "output_type": "stream",
     "text": [
      "Epoch 74, Train Loss: 0.0559, Train Accuracy: 0.9486\n",
      "Test Loss: 0.0567, Test Accuracy: 0.9510, Time: 45.24s\n"
     ]
    }
   ],
   "source": [
    "warnings.filterwarnings('ignore')\n",
    "\n",
    "fig, axes = plt.subplots(nrows = 2, ncols = 2, figsize=(15, 7))\n",
    "\n",
    "axes[0, 0].set_title('Train Loss')\n",
    "axes[0, 1].set_title('Train Accuracy')\n",
    "axes[1, 0].set_title('Test Loss')\n",
    "axes[1, 1].set_title('Test Accuracy')\n",
    "\n",
    "for ax in axes.flatten():\n",
    "    ax.grid()\n",
    "\n",
    "batch_size = 1024\n",
    "n_epochs = 75\n",
    "\n",
    "max_train_len = max(train_ngrams['n_gram'].str.len())\n",
    "max_test_len = max(test_ngrams['n_gram'].str.len())\n",
    "\n",
    "if max_train_len >= max_test_len:\n",
    "    max_len = max_train_len\n",
    "else:\n",
    "    max_len = max_test_len\n",
    "\n",
    "tr_ds = CustomPdDataset(train_ngrams, max_len)\n",
    "tr_dataloader = DataLoader(tr_ds, batch_size=batch_size, shuffle=False)\n",
    "\n",
    "test_ds = CustomPdDataset(test_ngrams, max_len)\n",
    "test_dataloader = DataLoader(test_ds, batch_size=batch_size, shuffle=False)\n",
    "\n",
    "train_losses = []\n",
    "train_accs = []\n",
    "test_losses = []\n",
    "test_accs = []\n",
    "\n",
    "model.to(device)\n",
    "\n",
    "for ep in range(n_epochs):\n",
    "    start = time.time()\n",
    "\n",
    "    train_loss = 0.\n",
    "    test_loss = 0.\n",
    "\n",
    "    model.train(True) \n",
    "\n",
    "    for source_batch, encrypted_batch in tr_dataloader:\n",
    "\n",
    "        optimizer.zero_grad()\n",
    "        source_batch = source_batch.to(device)\n",
    "        encrypted_batch = encrypted_batch.to(device)\n",
    "\n",
    "        answers = model(encrypted_batch)\n",
    "        tr_loss = criterion(answers.view(-1, 35), source_batch.flatten())\n",
    "        predictions = torch.argmax(answers, dim=-1)\n",
    "        \n",
    "        train_accuracy.update(predictions.flatten(), source_batch.flatten())\n",
    "\n",
    "        tr_loss.backward()\n",
    "        optimizer.step()\n",
    "        train_loss += tr_loss.item()\n",
    "    \n",
    "    epoch_train_acc = train_accuracy.compute()\n",
    "    train_accs.append(epoch_train_acc.item())\n",
    "    epoch_train_loss = train_loss / len(tr_dataloader)\n",
    "    train_losses.append(epoch_train_loss)\n",
    "\n",
    "    with torch.no_grad():\n",
    "        for source_batch, encrypted_batch in test_dataloader:\n",
    "            source_batch = source_batch.to(device)\n",
    "            encrypted_batch = encrypted_batch.to(device)\n",
    "            answers = model(encrypted_batch)\n",
    "            ts_loss = criterion(answers.view(-1, 35), source_batch.flatten())\n",
    "            predictions = torch.argmax(answers, dim=-1)\n",
    "            test_accuracy.update(predictions.flatten(), source_batch.flatten())\n",
    "            test_loss +=ts_loss.item()\n",
    "        \n",
    "        epoch_test_acc = test_accuracy.compute()\n",
    "        test_accs.append(epoch_test_acc.item())\n",
    "        epoch_test_loss = test_loss / len(test_dataloader)\n",
    "        test_losses.append(epoch_test_loss)\n",
    "    \n",
    "    sns.lineplot(train_losses, c='red', ax = axes[0, 0])\n",
    "    sns.lineplot(train_accs, c='green', ax = axes[0, 1])\n",
    "    sns.lineplot(test_losses, c='red', ax = axes[1, 0])\n",
    "    sns.lineplot(test_accs, c='green', ax = axes[1, 1])\n",
    "    display.display(fig, clear=True)\n",
    "    plt.close()\n",
    "\n",
    "    print(f'Epoch {ep}, Train Loss: {epoch_train_loss:.4f}, Train Accuracy: {epoch_train_acc:.4f}')\n",
    "    print(f'Test Loss: {epoch_test_loss:.4f}, Test Accuracy: {epoch_test_acc:.4f}, Time: {time.time() - start:.2f}s')"
   ]
  },
  {
   "cell_type": "code",
   "execution_count": 14,
   "metadata": {},
   "outputs": [],
   "source": [
    "torch.save(model.state_dict(), 'caesar_decryptor.pth')"
   ]
  },
  {
   "cell_type": "code",
   "execution_count": 13,
   "metadata": {},
   "outputs": [
    {
     "data": {
      "text/plain": [
       "Network(\n",
       "  (embedding): Embedding(35, 32, padding_idx=0)\n",
       "  (lstm): LSTM(32, 512, batch_first=True, bidirectional=True)\n",
       "  (fc1): Linear(in_features=1024, out_features=512, bias=True)\n",
       "  (relu): ReLU()\n",
       "  (dropout): Dropout(p=0.33, inplace=False)\n",
       "  (out): Linear(in_features=512, out_features=35, bias=True)\n",
       ")"
      ]
     },
     "execution_count": 13,
     "metadata": {},
     "output_type": "execute_result"
    }
   ],
   "source": [
    "model.load_state_dict(torch.load('caesar_decryptor.pth', weights_only=True))\n",
    "model.eval()"
   ]
  },
  {
   "cell_type": "code",
   "execution_count": 11,
   "metadata": {},
   "outputs": [],
   "source": [
    "alph = '* абвгдеёжзийклмнопрстуфхцчшщъыьэюя'\n",
    "charindex = {char: alph.index(char) for char in alph}\n",
    "\n",
    "def encrypt(text, shift, alph):\n",
    "\n",
    "        alph = alph\n",
    "        source_txt = re.sub(r'\\s+', ' ', text).strip()\n",
    "        encr_ls = []\n",
    "        for char in source_txt:\n",
    "            if char in alph:\n",
    "                shifted_index = (alph.index(char) + shift) % len(alph)\n",
    "                encr_ls.append(alph[shifted_index])\n",
    "                \n",
    "        encrypted = ''.join(encr_ls)\n",
    "        return encrypted\n",
    "\n",
    "def text_to_tensor(text, alph):\n",
    "    char_ind = [alph.index(char) for char in text]\n",
    "    encrypted_tensor =  torch.LongTensor(char_ind)\n",
    "    return encrypted_tensor"
   ]
  },
  {
   "cell_type": "code",
   "execution_count": 14,
   "metadata": {},
   "outputs": [
    {
     "name": "stdout",
     "output_type": "stream",
     "text": [
      "Original text: это текст для проверки того, как моя нейросеть обучилась расшифровке шифра цезаря.\n",
      "Encrypted text: й эн ущ* нтълнюяэруящчн эсэнщощныэлньушяэ*у инэпадчъо*иняо*ечбяэрщунечбяонгуцоял\n",
      "Decrypted text: это текст для проверки того как моя нейросеть обучилась расшифровке шифра цезаря\n"
     ]
    }
   ],
   "source": [
    "text = 'это текст для проверки того, как моя нейросеть обучилась расшифровке шифра цезаря.'\n",
    "shift = random.randint(1, 33)\n",
    "nl = '\\n'\n",
    "\n",
    "encrypted_text = encrypt(text, shift, alph)\n",
    "encrypted_tensor = text_to_tensor(encrypted_text, alph).to(device)\n",
    "with torch.no_grad():\n",
    "    output = model(encrypted_tensor)\n",
    "    outp_tensor = torch.argmax(output, dim=-1)\n",
    "\n",
    "decrypted_chars = []\n",
    "\n",
    "for idx in outp_tensor:  \n",
    "    nn_decrypted = decrypted_chars.extend(alph[idx])\n",
    "restored_text = ''.join(decrypted_chars)\n",
    "\n",
    "print(f'Original text: {text}{nl}Encrypted text: {encrypted_text}{nl}Decrypted text: {restored_text}')"
   ]
  }
 ],
 "metadata": {
  "kernelspec": {
   "display_name": "base",
   "language": "python",
   "name": "python3"
  },
  "language_info": {
   "codemirror_mode": {
    "name": "ipython",
    "version": 3
   },
   "file_extension": ".py",
   "mimetype": "text/x-python",
   "name": "python",
   "nbconvert_exporter": "python",
   "pygments_lexer": "ipython3",
   "version": "3.11.8"
  }
 },
 "nbformat": 4,
 "nbformat_minor": 2
}
