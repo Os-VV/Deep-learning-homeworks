{
 "cells": [
  {
   "cell_type": "code",
   "execution_count": 2,
   "metadata": {},
   "outputs": [
    {
     "name": "stdout",
     "output_type": "stream",
     "text": [
      " Device: NVIDIA GeForce RTX 4070 Ti. Now using: cuda \n",
      " Torch Version: 2.2.1\n"
     ]
    }
   ],
   "source": [
    "import torch\n",
    "from torch import nn\n",
    "import torchvision as tv\n",
    "from torchsummary import summary\n",
    "import time\n",
    "\n",
    "device = torch.device(\"cuda:0\" if torch.cuda.is_available() else \"cpu\")\n",
    "\n",
    "print(f' Device: {torch.cuda.get_device_name(0)}. Now using: {device.type}', '\\n',\n",
    "      f'Torch Version: {torch.version.__version__}')"
   ]
  },
  {
   "cell_type": "code",
   "execution_count": 79,
   "metadata": {},
   "outputs": [],
   "source": [
    "BATCH_SIZE=512\n",
    "train_dataset = tv.datasets.FashionMNIST('.', train=True, transform=tv.transforms.ToTensor(), download=False)\n",
    "test_dataset = tv.datasets.FashionMNIST('.', train=False, transform=tv.transforms.ToTensor(), download=False)\n",
    "train_iter = torch.utils.data.DataLoader(train_dataset, batch_size=BATCH_SIZE)\n",
    "test_iter = torch.utils.data.DataLoader(test_dataset, batch_size=BATCH_SIZE)"
   ]
  },
  {
   "cell_type": "code",
   "execution_count": 98,
   "metadata": {},
   "outputs": [
    {
     "name": "stdout",
     "output_type": "stream",
     "text": [
      "----------------------------------------------------------------\n",
      "        Layer (type)               Output Shape         Param #\n",
      "================================================================\n",
      "            Conv2d-1           [-1, 32, 28, 28]             320\n",
      "       BatchNorm2d-2           [-1, 32, 28, 28]              64\n",
      "           Softmax-3           [-1, 32, 28, 28]               0\n",
      "            Conv2d-4           [-1, 32, 28, 28]           9,248\n",
      "       BatchNorm2d-5           [-1, 32, 28, 28]              64\n",
      "           Softmax-6           [-1, 32, 28, 28]               0\n",
      "            Conv2d-7           [-1, 64, 28, 28]           2,112\n",
      "       BatchNorm2d-8           [-1, 64, 28, 28]             128\n",
      "           Softmax-9           [-1, 64, 28, 28]               0\n",
      "        MaxPool2d-10             [-1, 64, 9, 9]               0\n",
      "      BatchNorm2d-11             [-1, 64, 9, 9]             128\n",
      "           Conv2d-12             [-1, 32, 7, 7]          18,464\n",
      "          Softmax-13             [-1, 32, 7, 7]               0\n",
      "          Flatten-14                 [-1, 1568]               0\n",
      "           Linear-15                 [-1, 6000]       9,414,000\n",
      "          Dropout-16                 [-1, 6000]               0\n",
      "             ReLU-17                 [-1, 6000]               0\n",
      "           Linear-18                 [-1, 2048]      12,290,048\n",
      "          Dropout-19                 [-1, 2048]               0\n",
      "             ReLU-20                 [-1, 2048]               0\n",
      "           Linear-21                 [-1, 1024]       2,098,176\n",
      "          Dropout-22                 [-1, 1024]               0\n",
      "             ReLU-23                 [-1, 1024]               0\n",
      "           Linear-24                   [-1, 10]          10,250\n",
      "================================================================\n",
      "Total params: 23,843,002\n",
      "Trainable params: 23,843,002\n",
      "Non-trainable params: 0\n",
      "----------------------------------------------------------------\n",
      "Input size (MB): 0.00\n",
      "Forward/backward pass size (MB): 2.62\n",
      "Params size (MB): 90.95\n",
      "Estimated Total Size (MB): 93.58\n",
      "----------------------------------------------------------------\n"
     ]
    }
   ],
   "source": [
    "model = nn.Sequential(\n",
    "        nn.Conv2d(1, 32, kernel_size = 3, padding = 1),\n",
    "        nn.BatchNorm2d(32),\n",
    "        nn.Softmax(),\n",
    "        nn.Conv2d(32, 32, kernel_size = 3, padding = 1),\n",
    "        nn.BatchNorm2d(32),\n",
    "        nn.Softmax(),\n",
    "        nn.Conv2d(32, 64, kernel_size = 1),\n",
    "        nn.BatchNorm2d(64),\n",
    "        nn.Softmax(),\n",
    "        nn.MaxPool2d(kernel_size=3, stride=3),\n",
    "        nn.BatchNorm2d(64),\n",
    "        nn.Conv2d(64, 32, kernel_size=3),\n",
    "        nn.Softmax(),\n",
    "        nn.Flatten(),\n",
    "        nn.Linear(1568, 6000),\n",
    "        nn.Dropout(0.5),\n",
    "        nn.ReLU(),\n",
    "        nn.Linear(6000, 2048),\n",
    "        nn.Dropout(0.5),\n",
    "        nn.ReLU(),\n",
    "        nn.Linear(2048, 1024),\n",
    "        nn.Dropout(0.5),\n",
    "        nn.ReLU(),\n",
    "        nn.Linear(1024, 10),\n",
    "        )\n",
    "\n",
    "model.to(device)\n",
    "summary(model, input_size=(1, 28, 28))"
   ]
  },
  {
   "cell_type": "code",
   "execution_count": 55,
   "metadata": {},
   "outputs": [],
   "source": [
    "loss = torch.nn.CrossEntropyLoss()"
   ]
  },
  {
   "cell_type": "code",
   "execution_count": 64,
   "metadata": {},
   "outputs": [],
   "source": [
    "def evaluate_accuracy(data_iter, net):\n",
    "    acc_sum, n = 0, 0\n",
    "    net.eval()\n",
    "    for X, y in data_iter:\n",
    "        X, y = X.to(device), y.to(device)\n",
    "        acc_sum += (net(X).argmax(axis=1) == y).sum()\n",
    "        n += y.shape[0]\n",
    "    return acc_sum.item() / n\n",
    "\n",
    "def train(net, train_iter, test_iter, trainer, num_epochs):\n",
    "    net.to(device)\n",
    "    loss = nn.CrossEntropyLoss(reduction='sum')\n",
    "    net.train()\n",
    "    for epoch in range(num_epochs):\n",
    "        train_l_sum, train_acc_sum, n, start = 0.0, 0.0, 0, time.time()\n",
    "        \n",
    "        for i, (X, y) in enumerate(train_iter):\n",
    "            X, y = X.to(device), y.to(device)\n",
    "            trainer.zero_grad()\n",
    "            y_hat = net(X)\n",
    "            l = loss(y_hat, y)\n",
    "            l.backward()\n",
    "            trainer.step()\n",
    "            train_l_sum += l.item()\n",
    "            train_acc_sum += (y_hat.argmax(axis=1) == y).sum().item()\n",
    "            n += y.shape[0]\n",
    "\n",
    "        test_acc = evaluate_accuracy(test_iter, net.to(device))\n",
    "        print(f'epoch {epoch + 1}, loss {train_l_sum / n:.4f}, train acc {train_acc_sum / n:.4f}'\n",
    "              f', test acc {test_acc:.4f}, time {time.time() - start:.1f} sec')"
   ]
  },
  {
   "cell_type": "code",
   "execution_count": 99,
   "metadata": {},
   "outputs": [
    {
     "name": "stdout",
     "output_type": "stream",
     "text": [
      "epoch 1, loss 0.5924, train acc 0.7770, test acc 0.8687, time 8.5 sec\n",
      "epoch 2, loss 0.2655, train acc 0.9031, test acc 0.8936, time 8.2 sec\n",
      "epoch 3, loss 0.2067, train acc 0.9233, test acc 0.9001, time 7.9 sec\n",
      "epoch 4, loss 0.1780, train acc 0.9337, test acc 0.9050, time 7.9 sec\n",
      "epoch 5, loss 0.1592, train acc 0.9403, test acc 0.8952, time 7.9 sec\n",
      "epoch 6, loss 0.1466, train acc 0.9450, test acc 0.9080, time 7.9 sec\n",
      "epoch 7, loss 0.1240, train acc 0.9540, test acc 0.8988, time 7.8 sec\n",
      "epoch 8, loss 0.1077, train acc 0.9601, test acc 0.9005, time 7.9 sec\n",
      "epoch 9, loss 0.0986, train acc 0.9636, test acc 0.9117, time 7.9 sec\n",
      "epoch 10, loss 0.0873, train acc 0.9670, test acc 0.9066, time 8.0 sec\n",
      "epoch 11, loss 0.0770, train acc 0.9717, test acc 0.9084, time 8.0 sec\n",
      "epoch 12, loss 0.0707, train acc 0.9738, test acc 0.9081, time 8.1 sec\n",
      "epoch 13, loss 0.0552, train acc 0.9791, test acc 0.9115, time 8.1 sec\n",
      "epoch 14, loss 0.0509, train acc 0.9816, test acc 0.9133, time 8.1 sec\n",
      "epoch 15, loss 0.0441, train acc 0.9838, test acc 0.9152, time 8.1 sec\n",
      "epoch 16, loss 0.0372, train acc 0.9871, test acc 0.9051, time 8.1 sec\n",
      "epoch 17, loss 0.0343, train acc 0.9877, test acc 0.9153, time 8.1 sec\n",
      "epoch 18, loss 0.0314, train acc 0.9889, test acc 0.9138, time 8.3 sec\n",
      "epoch 19, loss 0.0303, train acc 0.9894, test acc 0.9189, time 8.1 sec\n",
      "epoch 20, loss 0.0246, train acc 0.9914, test acc 0.9178, time 8.1 sec\n",
      "epoch 21, loss 0.0229, train acc 0.9918, test acc 0.9184, time 8.1 sec\n",
      "epoch 22, loss 0.0191, train acc 0.9934, test acc 0.9120, time 7.9 sec\n",
      "epoch 23, loss 0.0185, train acc 0.9936, test acc 0.9176, time 7.9 sec\n",
      "epoch 24, loss 0.0203, train acc 0.9930, test acc 0.9194, time 7.9 sec\n",
      "epoch 25, loss 0.0147, train acc 0.9946, test acc 0.9137, time 7.8 sec\n",
      "epoch 26, loss 0.0141, train acc 0.9951, test acc 0.9168, time 8.0 sec\n",
      "epoch 27, loss 0.0165, train acc 0.9946, test acc 0.9144, time 7.9 sec\n",
      "epoch 28, loss 0.0164, train acc 0.9945, test acc 0.9153, time 7.9 sec\n",
      "epoch 29, loss 0.0175, train acc 0.9942, test acc 0.9200, time 7.9 sec\n",
      "epoch 30, loss 0.0149, train acc 0.9951, test acc 0.9204, time 7.9 sec\n",
      "epoch 31, loss 0.0118, train acc 0.9959, test acc 0.9187, time 7.9 sec\n",
      "epoch 32, loss 0.0138, train acc 0.9956, test acc 0.9209, time 7.9 sec\n",
      "epoch 33, loss 0.0121, train acc 0.9965, test acc 0.9215, time 7.8 sec\n",
      "epoch 34, loss 0.0122, train acc 0.9961, test acc 0.9174, time 8.0 sec\n",
      "epoch 35, loss 0.0105, train acc 0.9965, test acc 0.9194, time 7.8 sec\n",
      "epoch 36, loss 0.0116, train acc 0.9965, test acc 0.9177, time 7.9 sec\n",
      "epoch 37, loss 0.0106, train acc 0.9963, test acc 0.9172, time 7.9 sec\n",
      "epoch 38, loss 0.0113, train acc 0.9964, test acc 0.9160, time 7.9 sec\n",
      "epoch 39, loss 0.0111, train acc 0.9965, test acc 0.9200, time 7.8 sec\n",
      "epoch 40, loss 0.0113, train acc 0.9965, test acc 0.9193, time 7.8 sec\n"
     ]
    }
   ],
   "source": [
    "lr, num_epochs  = 0.001, 40\n",
    "trainer = torch.optim.Adam(model.parameters(), lr=lr)\n",
    "train(model, train_iter, test_iter, trainer, num_epochs)"
   ]
  }
 ],
 "metadata": {
  "kernelspec": {
   "display_name": "base",
   "language": "python",
   "name": "python3"
  },
  "language_info": {
   "codemirror_mode": {
    "name": "ipython",
    "version": 3
   },
   "file_extension": ".py",
   "mimetype": "text/x-python",
   "name": "python",
   "nbconvert_exporter": "python",
   "pygments_lexer": "ipython3",
   "version": "3.11.8"
  }
 },
 "nbformat": 4,
 "nbformat_minor": 2
}
